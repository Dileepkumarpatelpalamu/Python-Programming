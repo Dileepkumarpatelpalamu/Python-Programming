{
 "cells": [
  {
   "cell_type": "markdown",
   "id": "needed-commissioner",
   "metadata": {},
   "source": [
    "# How to validated mobile No in india"
   ]
  },
  {
   "cell_type": "code",
   "execution_count": 8,
   "id": "expired-landscape",
   "metadata": {},
   "outputs": [
    {
     "name": "stdout",
     "output_type": "stream",
     "text": [
      "Enter Mobile No :4523568912\n",
      " Please Enter valid mobile No Try again!\n"
     ]
    }
   ],
   "source": [
    "\"\"\"According to conceptual process the india contact no is start with digit from 6,7,8,9 and digit must be len to 10 digit\"\"\"\n",
    "mobile= input(\"Enter Mobile No :\")\n",
    "newmobile=mobile\n",
    "if (mobile.startswith('6') or mobile.startswith('7') or mobile.startswith('8') or mobile.startswith('9')) and len(mobile)==10:\n",
    "    print(\"Valid Mobile no :\",mobile)\n",
    "else:\n",
    "    print(\"Please Enter valid mobile No Try again!\")\n",
    "\n",
    "\n"
   ]
  },
  {
   "cell_type": "markdown",
   "id": "close-yukon",
   "metadata": {},
   "source": [
    "# How to validated email using python"
   ]
  },
  {
   "cell_type": "code",
   "execution_count": 13,
   "id": "skilled-hollywood",
   "metadata": {},
   "outputs": [
    {
     "name": "stdout",
     "output_type": "stream",
     "text": [
      "Enter email :pateldileep51@gmail.commm\n",
      "Invalid Email Try again\n"
     ]
    }
   ],
   "source": [
    "\"\"\"Accordign to coneptual process email validated is every email has must be @ symbols and position of @ must be greater than 0 postition and every email has been . symbol 2 or 3 digit before the positions\"\"\"\n",
    "#validemail =\"patel@gmail.com\"\n",
    "#invalidemail=\"@patel.com\" or \"patel@gmail.c\"\n",
    "\n",
    "email = input(\"Enter email :\")\n",
    "if email.index('@')!=0 and (email.index('.')==(len(email)-4) or email.index('.')==(len(email)-3)):\n",
    "    print(\"Email Valid :\",email)\n",
    "else:\n",
    "    print(\"Invalid Email Try again\")"
   ]
  },
  {
   "cell_type": "markdown",
   "id": "stone-niagara",
   "metadata": {},
   "source": [
    "# Discuss about str object funtion in python\n",
    "# 1. len()   This function use to find lenth of string\n",
    "# 2. upper() This function use to change lower case string into uppercase letter\n",
    "# 3. lower() this function use to change upper case string into lowercase letter\n",
    "# 4. startswith() This function use to check starting char of the string\n",
    "# 5. endswith()  This function use to check ending char of the string\n",
    "# 6. isdigit()   this function use to check string is only digit or not\n",
    "# 7. isnumber()  \n",
    "# 8. isspace()\n",
    "# 9. find()\n",
    "# 10 index()\n",
    "# 11 strip()\n",
    "# 12 split()\n",
    "# 13 join()\n",
    "# 14 casefold()\n",
    "# 15 title()\n",
    "# 16 isalpha()\n",
    "# 17 isalnum\n",
    "# many function in python in string function\n",
    "\n"
   ]
  },
  {
   "cell_type": "code",
   "execution_count": 17,
   "id": "weekly-sherman",
   "metadata": {},
   "outputs": [
    {
     "name": "stdout",
     "output_type": "stream",
     "text": [
      "Enter any number :2\n",
      "Enter num is prime number\n"
     ]
    }
   ],
   "source": [
    "# Write a program to check input number is odd or even\n",
    "num=int(input(\"Enter any number :\"))\n",
    "for i in range(2,num):\n",
    "    if num%i==0:\n",
    "        res=0\n",
    "        break\n",
    "else:\n",
    "    res=1\n",
    "if res==0:\n",
    "    print(\"input Num not prime no\")\n",
    "else:\n",
    "    print(\"Enter num is prime number\")\n",
    "        "
   ]
  },
  {
   "cell_type": "code",
   "execution_count": 22,
   "id": "floral-karen",
   "metadata": {},
   "outputs": [
    {
     "name": "stdout",
     "output_type": "stream",
     "text": [
      "[['Name' 'DIT' 'Address' 'Company']\n",
      " ['Dileep Kumar Patel' '10' 'Ranchi' 'Amazon']\n",
      " ['Rahul Kumar' '20' 'Bokaro' 'IBM']\n",
      " ['Mayang Kumar' '40' 'Faridabad' 'Oracle']\n",
      " ['Rohit Kumar' '50' 'Dhanbad' 'Microsoft']\n",
      " ['Danav Raj' '60' 'Hydrabad' 'Flipcart']]\n",
      "['Name' 'DIT' 'Address' 'Company']\n",
      "['Dileep Kumar Patel' '10' 'Ranchi' 'Amazon']\n",
      "['Rahul Kumar' '20' 'Bokaro' 'IBM']\n",
      "['Mayang Kumar' '40' 'Faridabad' 'Oracle']\n",
      "['Rohit Kumar' '50' 'Dhanbad' 'Microsoft']\n",
      "['Danav Raj' '60' 'Hydrabad' 'Flipcart']\n"
     ]
    }
   ],
   "source": [
    "import pandas as pd\n",
    "import numpy as np\n",
    "import csv\n",
    "fo = None\n",
    "try:\n",
    "    fo=open(\"Company.csv\")\n",
    "    data=csv.reader(fo)\n",
    "    res= list(data)\n",
    "    nparray=np.array(res)\n",
    "    for row in nparray:\n",
    "        print(row)\n",
    "except FileNotFoundError:\n",
    "    print(\"File not found error!\")\n",
    "finally:\n",
    "    if fo:\n",
    "        fo.close()"
   ]
  }
 ],
 "metadata": {
  "kernelspec": {
   "display_name": "Python 3",
   "language": "python",
   "name": "python3"
  },
  "language_info": {
   "codemirror_mode": {
    "name": "ipython",
    "version": 3
   },
   "file_extension": ".py",
   "mimetype": "text/x-python",
   "name": "python",
   "nbconvert_exporter": "python",
   "pygments_lexer": "ipython3",
   "version": "3.8.7"
  }
 },
 "nbformat": 4,
 "nbformat_minor": 5
}
