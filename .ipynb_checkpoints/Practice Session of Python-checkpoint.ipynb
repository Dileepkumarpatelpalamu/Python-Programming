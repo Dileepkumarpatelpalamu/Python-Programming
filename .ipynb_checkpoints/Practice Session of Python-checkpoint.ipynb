{
 "cells": [
  {
   "cell_type": "markdown",
   "id": "anonymous-jacket",
   "metadata": {},
   "source": [
    "# Practice Session for Python "
   ]
  },
  {
   "cell_type": "code",
   "execution_count": 1,
   "id": "baking-cholesterol",
   "metadata": {},
   "outputs": [
    {
     "name": "stdout",
     "output_type": "stream",
     "text": [
      "\u0000 \u0001 \u0002 \u0003 \u0004 \u0005 \u0006 \u0007 \b \t \n",
      " \u000b",
      " \f",
      " \r",
      " \u000e \u000f \u0010 \u0011 \u0012 \u0013 \u0014 \u0015 \u0016 \u0017 \u0018 \u0019 \u001a \u001b \u001c",
      " \u001d",
      " \u001e",
      " \u001f   ! \" # $ % & ' ( ) * + , - . / 0 1 2 3 4 5 6 7 8 9 : ; < = > ? @ A B C D E F G H I J K L M N O P Q R S T U V W X Y Z [ \\ ] ^ _ ` a b c d e f g h i j k l m n o p q r s t u v w x y z { | } ~       ",
      "                             ¡ ¢ £ ¤ ¥ ¦ § ¨ © ª « ¬ ­ ® ¯ ° ± ² ³ ´ µ ¶ · ¸ ¹ º » ¼ ½ ¾ ¿ À Á Â Ã Ä Å Æ Ç È É Ê Ë Ì Í Î Ï Ð Ñ Ò Ó Ô Õ Ö × Ø Ù Ú Û Ü Ý Þ ß à á â ã ä å æ ç è é ê ë ì í î ï ð ñ ò ó ô õ ö ÷ ø ù ú û ü ý þ "
     ]
    }
   ],
   "source": [
    "# Write a program to print all character in python\n",
    "\n",
    "for i in range(255):\n",
    "    print(chr(i),end=\" \")"
   ]
  },
  {
   "cell_type": "code",
   "execution_count": 6,
   "id": "declared-trouble",
   "metadata": {},
   "outputs": [
    {
     "name": "stdout",
     "output_type": "stream",
     "text": [
      "65 66 67 68 52 53 "
     ]
    }
   ],
   "source": [
    "# Write a program to print all asci value of all characters\n",
    "for ch in ['A','B','C','D','4','5']:\n",
    "    print(ord(ch),end=\" \")"
   ]
  },
  {
   "cell_type": "code",
   "execution_count": 5,
   "id": "angry-alert",
   "metadata": {},
   "outputs": [
    {
     "name": "stdout",
     "output_type": "stream",
     "text": [
      "All Python Keword List in python : 35 \n",
      " ['False', 'None', 'True', 'and', 'as', 'assert', 'async', 'await', 'break', 'class', 'continue', 'def', 'del', 'elif', 'else', 'except', 'finally', 'for', 'from', 'global', 'if', 'import', 'in', 'is', 'lambda', 'nonlocal', 'not', 'or', 'pass', 'raise', 'return', 'try', 'while', 'with', 'yield']\n"
     ]
    }
   ],
   "source": [
    "# Write a program to print all keyword list in python\n",
    "import sys,keyword\n",
    "print(\"All Python Keword List in python :\",len(keyword.kwlist),\"\\n\",keyword.kwlist)"
   ]
  },
  {
   "cell_type": "code",
   "execution_count": 10,
   "id": "adjacent-father",
   "metadata": {},
   "outputs": [
    {
     "name": "stdout",
     "output_type": "stream",
     "text": [
      "120 Bigest number\n"
     ]
    }
   ],
   "source": [
    "# Write a program to find max value among three number using if else\n",
    "a,b,c=100,120,50\n",
    "if a>b and a>c:\n",
    "    print(a,\"Bigest number\")\n",
    "elif b>c:\n",
    "    print(b,\"Bigest number\")\n",
    "else:\n",
    "    print(c,\"Bigest number\")"
   ]
  },
  {
   "cell_type": "code",
   "execution_count": 17,
   "id": "architectural-trouble",
   "metadata": {},
   "outputs": [
    {
     "name": "stdout",
     "output_type": "stream",
     "text": [
      "Enter start value : 50\n",
      "Enter end value : 200\n",
      "All prime number between :  50  And  200\n",
      "53 59 61 67 71 73 79 83 89 97 101 103 107 109 113 127 131 137 139 149 151 157 163 167 173 179 181 191 193 197 199 "
     ]
    }
   ],
   "source": [
    "# Write a program to print all prime number \n",
    "start=int(input(\"Enter start value : \"))\n",
    "end=int(input(\"Enter end value : \"))\n",
    "print(\"All prime number between : \",start,\" And \",end)\n",
    "for i in range(start,end+1):\n",
    "    for j in range(2,(i//2)+1):\n",
    "        if i%j==0:\n",
    "            break\n",
    "    else:\n",
    "        print(i, end=\" \")"
   ]
  },
  {
   "cell_type": "code",
   "execution_count": 18,
   "id": "novel-relevance",
   "metadata": {},
   "outputs": [
    {
     "name": "stdout",
     "output_type": "stream",
     "text": [
      "\n",
      "1\n",
      "22\n",
      "333\n",
      "4444\n"
     ]
    }
   ],
   "source": [
    "# Write a program to print given format\n",
    "\n",
    "for i in range(5):\n",
    "    for j in range(0,i):\n",
    "        print(i,end=\"\")\n",
    "    print()"
   ]
  },
  {
   "cell_type": "code",
   "execution_count": 21,
   "id": "creative-housing",
   "metadata": {},
   "outputs": [
    {
     "name": "stdout",
     "output_type": "stream",
     "text": [
      "\n",
      "0\n",
      "01\n",
      "012\n",
      "0123\n"
     ]
    }
   ],
   "source": [
    "# Write a program to print given format\n",
    "\n",
    "for i in range(5):\n",
    "    for j in range(0,i):\n",
    "        print(j,end=\"\")\n",
    "    print()"
   ]
  },
  {
   "cell_type": "code",
   "execution_count": 33,
   "id": "joined-beauty",
   "metadata": {},
   "outputs": [
    {
     "name": "stdout",
     "output_type": "stream",
     "text": [
      "84\n",
      "['I', 'like', 'python.', 'I', \"can't\", 'be', 'read', 'english', 'frequently', 'so,', 'we', 'could', 'not', 'be', 'came', 'developer']\n",
      "hon. I can\n",
      "75\n",
      "I likepython.ca'brdgsfqu,wmv\n"
     ]
    }
   ],
   "source": [
    "# String is the group of chararecter. in python string is the str type of object\n",
    "# string support positive index as well as negative index\n",
    "# string object not mutable type that means string object we assess using index but it cant be modify\n",
    "# in python many immutable type object example str,int, tuple etc\n",
    "# python str object also support slicing that mean access using index between characters\n",
    "# in python many mutable type object example list, set, dictionary etc\n",
    "# There are following method to handle str object in python :\n",
    "#capitalize()\n",
    "#title()\n",
    "#startswith()\n",
    "#endswith()\n",
    "#upper()\n",
    "#lower()\n",
    "#split()\n",
    "#index()\n",
    "#find()\n",
    "#isalpha()\n",
    "#isdigit()\n",
    "#isalnum()\n",
    "#isspace()\n",
    "#join()\n",
    "#rstrip()\n",
    "#lstrip()\n",
    "#strip()\n",
    "#len()\n",
    "#count()\n",
    "mystring =\"I like python. I can't be read english frequently so, we could not be came developer\"\n",
    "print(len(mystring))\n",
    "print(mystring.split())\n",
    "print(mystring[10:20])\n",
    "print(mystring.find(\"developer\"))\n",
    "#print(mystring.index('Developer'))\n",
    "#Write a program to pring unique characters in a string\n",
    "data=\"\"\n",
    "for ch in mystring:\n",
    "    if ch not in data:\n",
    "        data=data + ch\n",
    "print(data)"
   ]
  },
  {
   "cell_type": "code",
   "execution_count": 37,
   "id": "hundred-silver",
   "metadata": {},
   "outputs": [
    {
     "name": "stdout",
     "output_type": "stream",
     "text": [
      "Enter any number : 25\n",
      "11001\n"
     ]
    }
   ],
   "source": [
    "# Write a program to convert decimal to binary number\n",
    "num= int(input(\"Enter any number : \"))\n",
    "mstr=\"\"\n",
    "while num>0:\n",
    "    r=num%2\n",
    "    mstr= mstr +str(r)\n",
    "    num= num//2\n",
    "print(mstr[::-1])"
   ]
  },
  {
   "cell_type": "code",
   "execution_count": null,
   "id": "vertical-thong",
   "metadata": {},
   "outputs": [],
   "source": [
    "# Write a program to convert binary to decimal number\n",
    "num= int(input(\"Enter any number : \"))\n",
    "res=0\n",
    "i =0\n",
    "while num>0:\n",
    "    r=num%10\n",
    "    res=r*2**i\n",
    "    dec=dec+res\n",
    "    num= num//10\n",
    "    i+=1\n",
    "print(dec)"
   ]
  }
 ],
 "metadata": {
  "kernelspec": {
   "display_name": "Python 3",
   "language": "python",
   "name": "python3"
  },
  "language_info": {
   "codemirror_mode": {
    "name": "ipython",
    "version": 3
   },
   "file_extension": ".py",
   "mimetype": "text/x-python",
   "name": "python",
   "nbconvert_exporter": "python",
   "pygments_lexer": "ipython3",
   "version": "3.8.7"
  }
 },
 "nbformat": 4,
 "nbformat_minor": 5
}
