{
 "cells": [
  {
   "cell_type": "code",
   "execution_count": 2,
   "id": "possible-presence",
   "metadata": {},
   "outputs": [],
   "source": [
    "import numpy as np"
   ]
  },
  {
   "cell_type": "code",
   "execution_count": 3,
   "id": "disturbed-atlantic",
   "metadata": {},
   "outputs": [],
   "source": [
    "data= np.arange(100000)"
   ]
  },
  {
   "cell_type": "code",
   "execution_count": 5,
   "id": "improving-bench",
   "metadata": {},
   "outputs": [],
   "source": [
    "mylist = list(range(100000))"
   ]
  },
  {
   "cell_type": "code",
   "execution_count": 21,
   "id": "coastal-monitoring",
   "metadata": {},
   "outputs": [
    {
     "data": {
      "text/plain": [
       "array([[    0,     1,     2, ...,   997,   998,   999],\n",
       "       [ 1000,  1001,  1002, ...,  1997,  1998,  1999],\n",
       "       [ 2000,  2001,  2002, ...,  2997,  2998,  2999],\n",
       "       ...,\n",
       "       [97000, 97001, 97002, ..., 97997, 97998, 97999],\n",
       "       [98000, 98001, 98002, ..., 98997, 98998, 98999],\n",
       "       [99000, 99001, 99002, ..., 99997, 99998, 99999]])"
      ]
     },
     "execution_count": 21,
     "metadata": {},
     "output_type": "execute_result"
    }
   ],
   "source": [
    "data.reshape((100,1000))"
   ]
  },
  {
   "cell_type": "code",
   "execution_count": 11,
   "id": "understanding-argument",
   "metadata": {},
   "outputs": [
    {
     "data": {
      "text/plain": [
       "704982704"
      ]
     },
     "execution_count": 11,
     "metadata": {},
     "output_type": "execute_result"
    }
   ],
   "source": [
    "data.sum()"
   ]
  },
  {
   "cell_type": "code",
   "execution_count": 12,
   "id": "fifth-classics",
   "metadata": {},
   "outputs": [
    {
     "data": {
      "text/plain": [
       "4999950000"
      ]
     },
     "execution_count": 12,
     "metadata": {},
     "output_type": "execute_result"
    }
   ],
   "source": [
    "sum(mylist)"
   ]
  },
  {
   "cell_type": "code",
   "execution_count": null,
   "id": "nervous-preference",
   "metadata": {},
   "outputs": [],
   "source": []
  }
 ],
 "metadata": {
  "kernelspec": {
   "display_name": "Python 3",
   "language": "python",
   "name": "python3"
  },
  "language_info": {
   "codemirror_mode": {
    "name": "ipython",
    "version": 3
   },
   "file_extension": ".py",
   "mimetype": "text/x-python",
   "name": "python",
   "nbconvert_exporter": "python",
   "pygments_lexer": "ipython3",
   "version": "3.8.7"
  }
 },
 "nbformat": 4,
 "nbformat_minor": 5
}
