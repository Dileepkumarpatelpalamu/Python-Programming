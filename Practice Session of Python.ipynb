{
 "cells": [
  {
   "cell_type": "markdown",
   "id": "harmful-technique",
   "metadata": {},
   "source": [
    "# Practice Session for Python "
   ]
  },
  {
   "cell_type": "code",
   "execution_count": 1,
   "id": "corresponding-detector",
   "metadata": {},
   "outputs": [
    {
     "name": "stdout",
     "output_type": "stream",
     "text": [
      "\u0000 \u0001 \u0002 \u0003 \u0004 \u0005 \u0006 \u0007 \b \t \n",
      " \u000b",
      " \f",
      " \r",
      " \u000e \u000f \u0010 \u0011 \u0012 \u0013 \u0014 \u0015 \u0016 \u0017 \u0018 \u0019 \u001a \u001b \u001c",
      " \u001d",
      " \u001e",
      " \u001f   ! \" # $ % & ' ( ) * + , - . / 0 1 2 3 4 5 6 7 8 9 : ; < = > ? @ A B C D E F G H I J K L M N O P Q R S T U V W X Y Z [ \\ ] ^ _ ` a b c d e f g h i j k l m n o p q r s t u v w x y z { | } ~       ",
      "                             ¡ ¢ £ ¤ ¥ ¦ § ¨ © ª « ¬ ­ ® ¯ ° ± ² ³ ´ µ ¶ · ¸ ¹ º » ¼ ½ ¾ ¿ À Á Â Ã Ä Å Æ Ç È É Ê Ë Ì Í Î Ï Ð Ñ Ò Ó Ô Õ Ö × Ø Ù Ú Û Ü Ý Þ ß à á â ã ä å æ ç è é ê ë ì í î ï ð ñ ò ó ô õ ö ÷ ø ù ú û ü ý þ "
     ]
    }
   ],
   "source": [
    "# Write a program to print all character in python\n",
    "\n",
    "for i in range(255):\n",
    "    print(chr(i),end=\" \")"
   ]
  },
  {
   "cell_type": "code",
   "execution_count": 6,
   "id": "apart-antarctica",
   "metadata": {},
   "outputs": [
    {
     "name": "stdout",
     "output_type": "stream",
     "text": [
      "65 66 67 68 52 53 "
     ]
    }
   ],
   "source": [
    "# Write a program to print all asci value of all characters\n",
    "for ch in ['A','B','C','D','4','5']:\n",
    "    print(ord(ch),end=\" \")"
   ]
  },
  {
   "cell_type": "code",
   "execution_count": 5,
   "id": "exclusive-diabetes",
   "metadata": {},
   "outputs": [
    {
     "name": "stdout",
     "output_type": "stream",
     "text": [
      "All Python Keword List in python : 35 \n",
      " ['False', 'None', 'True', 'and', 'as', 'assert', 'async', 'await', 'break', 'class', 'continue', 'def', 'del', 'elif', 'else', 'except', 'finally', 'for', 'from', 'global', 'if', 'import', 'in', 'is', 'lambda', 'nonlocal', 'not', 'or', 'pass', 'raise', 'return', 'try', 'while', 'with', 'yield']\n"
     ]
    }
   ],
   "source": [
    "# Write a program to print all keyword list in python\n",
    "import sys,keyword\n",
    "print(\"All Python Keword List in python :\",len(keyword.kwlist),\"\\n\",keyword.kwlist)"
   ]
  },
  {
   "cell_type": "code",
   "execution_count": 10,
   "id": "silver-postage",
   "metadata": {},
   "outputs": [
    {
     "name": "stdout",
     "output_type": "stream",
     "text": [
      "120 Bigest number\n"
     ]
    }
   ],
   "source": [
    "# Write a program to find max value among three number using if else\n",
    "a,b,c=100,120,50\n",
    "if a>b and a>c:\n",
    "    print(a,\"Bigest number\")\n",
    "elif b>c:\n",
    "    print(b,\"Bigest number\")\n",
    "else:\n",
    "    print(c,\"Bigest number\")"
   ]
  },
  {
   "cell_type": "code",
   "execution_count": 17,
   "id": "understood-director",
   "metadata": {},
   "outputs": [
    {
     "name": "stdout",
     "output_type": "stream",
     "text": [
      "Enter start value : 50\n",
      "Enter end value : 200\n",
      "All prime number between :  50  And  200\n",
      "53 59 61 67 71 73 79 83 89 97 101 103 107 109 113 127 131 137 139 149 151 157 163 167 173 179 181 191 193 197 199 "
     ]
    }
   ],
   "source": [
    "# Write a program to print all prime number \n",
    "start=int(input(\"Enter start value : \"))\n",
    "end=int(input(\"Enter end value : \"))\n",
    "print(\"All prime number between : \",start,\" And \",end)\n",
    "for i in range(start,end+1):\n",
    "    for j in range(2,(i//2)+1):\n",
    "        if i%j==0:\n",
    "            break\n",
    "    else:\n",
    "        print(i, end=\" \")"
   ]
  },
  {
   "cell_type": "code",
   "execution_count": 18,
   "id": "racial-principle",
   "metadata": {},
   "outputs": [
    {
     "name": "stdout",
     "output_type": "stream",
     "text": [
      "\n",
      "1\n",
      "22\n",
      "333\n",
      "4444\n"
     ]
    }
   ],
   "source": [
    "# Write a program to print given format\n",
    "\n",
    "for i in range(5):\n",
    "    for j in range(0,i):\n",
    "        print(i,end=\"\")\n",
    "    print()"
   ]
  },
  {
   "cell_type": "code",
   "execution_count": 21,
   "id": "nasty-wheel",
   "metadata": {},
   "outputs": [
    {
     "name": "stdout",
     "output_type": "stream",
     "text": [
      "\n",
      "0\n",
      "01\n",
      "012\n",
      "0123\n"
     ]
    }
   ],
   "source": [
    "# Write a program to print given format\n",
    "\n",
    "for i in range(5):\n",
    "    for j in range(0,i):\n",
    "        print(j,end=\"\")\n",
    "    print()"
   ]
  },
  {
   "cell_type": "code",
   "execution_count": 33,
   "id": "fifty-border",
   "metadata": {},
   "outputs": [
    {
     "name": "stdout",
     "output_type": "stream",
     "text": [
      "84\n",
      "['I', 'like', 'python.', 'I', \"can't\", 'be', 'read', 'english', 'frequently', 'so,', 'we', 'could', 'not', 'be', 'came', 'developer']\n",
      "hon. I can\n",
      "75\n",
      "I likepython.ca'brdgsfqu,wmv\n"
     ]
    }
   ],
   "source": [
    "# String is the group of chararecter. in python string is the str type of object\n",
    "# string support positive index as well as negative index\n",
    "# string object not mutable type that means string object we assess using index but it cant be modify\n",
    "# in python many immutable type object example str,int, tuple etc\n",
    "# python str object also support slicing that mean access using index between characters\n",
    "# in python many mutable type object example list, set, dictionary etc\n",
    "# There are following method to handle str object in python :\n",
    "#capitalize()\n",
    "#title()\n",
    "#startswith()\n",
    "#endswith()\n",
    "#upper()\n",
    "#lower()\n",
    "#split()\n",
    "#index()\n",
    "#find()\n",
    "#isalpha()\n",
    "#isdigit()\n",
    "#isalnum()\n",
    "#isspace()\n",
    "#join()\n",
    "#rstrip()\n",
    "#lstrip()\n",
    "#strip()\n",
    "#len()\n",
    "#count()\n",
    "mystring =\"I like python. I can't be read english frequently so, we could not be came developer\"\n",
    "print(len(mystring))\n",
    "print(mystring.split())\n",
    "print(mystring[10:20])\n",
    "print(mystring.find(\"developer\"))\n",
    "#print(mystring.index('Developer'))\n",
    "#Write a program to pring unique characters in a string\n",
    "data=\"\"\n",
    "for ch in mystring:\n",
    "    if ch not in data:\n",
    "        data=data + ch\n",
    "print(data)"
   ]
  },
  {
   "cell_type": "code",
   "execution_count": 37,
   "id": "relative-webster",
   "metadata": {},
   "outputs": [
    {
     "name": "stdout",
     "output_type": "stream",
     "text": [
      "Enter any number : 25\n",
      "11001\n"
     ]
    }
   ],
   "source": [
    "# Write a program to convert decimal to binary number\n",
    "num= int(input(\"Enter any number : \"))\n",
    "mstr=\"\"\n",
    "while num>0:\n",
    "    r=num%2\n",
    "    mstr= mstr +str(r)\n",
    "    num= num//2\n",
    "print(mstr[::-1])"
   ]
  },
  {
   "cell_type": "code",
   "execution_count": 44,
   "id": "collective-extent",
   "metadata": {},
   "outputs": [
    {
     "name": "stdout",
     "output_type": "stream",
     "text": [
      "Enter any number : 110\n",
      "Decimal value is : 6\n"
     ]
    }
   ],
   "source": [
    "# Write a program to convert binary to decimal number\n",
    "num= int(input(\"Enter any number : \"))\n",
    "i =0\n",
    "dec=0\n",
    "while num>0:\n",
    "    dec=dec+(num%10)*(2**i)\n",
    "    num= num//10\n",
    "    i+=1\n",
    "print(\"Decimal value is :\",dec)"
   ]
  },
  {
   "cell_type": "markdown",
   "id": "registered-shooting",
   "metadata": {},
   "source": [
    "# list Object in Python"
   ]
  },
  {
   "cell_type": "code",
   "execution_count": 60,
   "id": "technological-feedback",
   "metadata": {},
   "outputs": [
    {
     "name": "stdout",
     "output_type": "stream",
     "text": [
      "[10, 20, 30, 40, 50, 60]\n",
      "[10, 20, 40, 50, 60, 200.5]\n"
     ]
    }
   ],
   "source": [
    "# list is the collection type object. it is used to store multiple value in single intity\n",
    "# list object are mutable type object.\n",
    "# list object element are identified by unique index number.\n",
    "# index number positive or negative index positive index number start with 0 index but last index is n-1 index but negative index start with -1 and second -2 this end this -n index\n",
    "# list object create with [] braket and list convertion method\n",
    "# example lst=[1,2,3,4,2] and data=list([1,2,3,4,5,6])\n",
    "# list object are insertion order are preserved\n",
    "# list object hectrogenious type object\n",
    "# list element also support slice using index numbe like string, tuple\n",
    "# The list object handle in python many mathods\n",
    "# append()\n",
    "# extend()\n",
    "# remove()\n",
    "# insert()\n",
    "# pop()\n",
    "# copy()\n",
    "# reverse()\n",
    "# sort()\n",
    "# clear()\n",
    "lst =[10,20,30,40,50,60]\n",
    "print(lst)\n",
    "#lst.append(100) # append method add single element in list at last index\n",
    "#lst.extend([56,20,60,70]) # extend method add multiple element in list at last\n",
    "#lst.remove(50)  # remove method remove element by element as parameter in list\n",
    "lst.pop(2) # pop method is remove element of list using index number if you index number not pass as agrument then last element is removed\n",
    "lst.insert(1,200.5) # insert method is used to insert single element in list using index number insert(index,value) as paramenters\n",
    "lst.reverse() # reverse method is use reverse order of list element\n",
    "lst.sort()  # sort method is used to sorting list element desending or accending order sort(key=,reverse=True/False) if you want sorting as decending order the reverse=True gives as paramenters\n",
    "print(lst)"
   ]
  },
  {
   "cell_type": "code",
   "execution_count": 62,
   "id": "increasing-glucose",
   "metadata": {},
   "outputs": [
    {
     "name": "stdout",
     "output_type": "stream",
     "text": [
      "[1, 2, 3]\n",
      "[4, 5, 6]\n",
      "[7, 8, 9]\n"
     ]
    }
   ],
   "source": [
    "# matrix operation using list\n",
    "x=[[1,2,3],[4,5,6],[7,8,9]]\n",
    "for i in range(3):\n",
    "    print(x[i])"
   ]
  },
  {
   "cell_type": "code",
   "execution_count": 66,
   "id": "conditional-quilt",
   "metadata": {},
   "outputs": [
    {
     "name": "stdout",
     "output_type": "stream",
     "text": [
      "1 2 3 \n",
      "4 5 6 \n",
      "7 8 9 \n"
     ]
    }
   ],
   "source": [
    "for i in range(3):\n",
    "    for j in range(3):\n",
    "        print(x[i][j],end=\" \")\n",
    "    print()"
   ]
  },
  {
   "cell_type": "code",
   "execution_count": 69,
   "id": "sapphire-teach",
   "metadata": {},
   "outputs": [
    {
     "name": "stdout",
     "output_type": "stream",
     "text": [
      "1 4 7 \n",
      "2 5 8 \n",
      "3 6 9 \n"
     ]
    }
   ],
   "source": [
    "# write a program to print transpose of matrix\n",
    "for i in range(3):\n",
    "    for j in range(3):\n",
    "        print(x[j][i],end=\" \")\n",
    "    print()"
   ]
  },
  {
   "cell_type": "code",
   "execution_count": 72,
   "id": "fiscal-bridge",
   "metadata": {},
   "outputs": [
    {
     "name": "stdout",
     "output_type": "stream",
     "text": [
      "\n",
      "row  0  sum  6\n",
      "\n",
      "row  1  sum  15\n",
      "\n",
      "row  2  sum  24\n"
     ]
    }
   ],
   "source": [
    "for i in range(3):\n",
    "    sum=0\n",
    "    for j in range(3):\n",
    "        sum= sum +x[i][j]\n",
    "    print()\n",
    "    print(\"row \",i,\" sum \",sum)"
   ]
  },
  {
   "cell_type": "code",
   "execution_count": 74,
   "id": "meaningful-lighting",
   "metadata": {},
   "outputs": [
    {
     "name": "stdout",
     "output_type": "stream",
     "text": [
      "\n",
      "col  0  sum  12\n",
      "\n",
      "col  1  sum  15\n",
      "\n",
      "col  2  sum  18\n"
     ]
    }
   ],
   "source": [
    "for i in range(3):\n",
    "    sum=0\n",
    "    for j in range(3):\n",
    "        sum= sum +x[j][i]\n",
    "    print()\n",
    "    print(\"col \",i,\" sum \",sum)"
   ]
  },
  {
   "cell_type": "code",
   "execution_count": 75,
   "id": "minor-panama",
   "metadata": {},
   "outputs": [
    {
     "name": "stdout",
     "output_type": "stream",
     "text": [
      "\n",
      "\n",
      "\n",
      "sum of matrix is : 45\n"
     ]
    }
   ],
   "source": [
    "sum=0\n",
    "for i in range(3):\n",
    "    for j in range(3):\n",
    "        sum= sum +x[j][i]\n",
    "    print()\n",
    "print(\"sum of matrix is :\",sum)"
   ]
  },
  {
   "cell_type": "code",
   "execution_count": 80,
   "id": "breeding-fields",
   "metadata": {},
   "outputs": [
    {
     "name": "stdout",
     "output_type": "stream",
     "text": [
      "rows :1 element 1 : 1\n",
      "rows :1 element 2 : 2\n",
      "rows :1 element 3 : 3\n",
      "rows :2 element 1 : 4\n",
      "rows :2 element 2 : 5\n",
      "rows :2 element 3 : 6\n",
      "rows :3 element 1 : 7\n",
      "rows :3 element 2 : 8\n",
      "rows :3 element 3 : 9\n",
      "[[1, 2, 3], [4, 5, 6], [7, 8, 9]]\n"
     ]
    }
   ],
   "source": [
    "# write a program to print matrix format\n",
    "row = 3\n",
    "col =3\n",
    "mat=[]\n",
    "for i in range(row):\n",
    "    lst=[]\n",
    "    for j in range(col):\n",
    "        x= int(input(\"rows :\"+str(i+1)+\" element \"+str(j+1)+\" : \"))\n",
    "        lst.append(x)\n",
    "    mat.append(lst)\n",
    "print(mat)"
   ]
  },
  {
   "cell_type": "markdown",
   "id": "acoustic-potter",
   "metadata": {},
   "source": [
    "## list comprehension "
   ]
  },
  {
   "cell_type": "code",
   "execution_count": 83,
   "id": "everyday-british",
   "metadata": {},
   "outputs": [
    {
     "data": {
      "text/plain": [
       "[6, 7, 8, 9]"
      ]
     },
     "execution_count": 83,
     "metadata": {},
     "output_type": "execute_result"
    }
   ],
   "source": [
    "data=[x for x in range(10) if x>5]\n",
    "data"
   ]
  },
  {
   "cell_type": "code",
   "execution_count": 87,
   "id": "earlier-subsection",
   "metadata": {},
   "outputs": [
    {
     "data": {
      "text/plain": [
       "[['l'], ['l', '*', 'k', '*'], ['P', 'y', 't', 'h', '*', 'n']]"
      ]
     },
     "execution_count": 87,
     "metadata": {},
     "output_type": "execute_result"
    }
   ],
   "source": [
    "string=\"l like Python\"\n",
    "data=[[x if x not in \"a,i,o,e,u\" else \"*\" for x in word] for word in string.split()]\n",
    "data"
   ]
  },
  {
   "cell_type": "code",
   "execution_count": 91,
   "id": "upper-table",
   "metadata": {},
   "outputs": [
    {
     "data": {
      "text/plain": [
       "9"
      ]
     },
     "execution_count": 91,
     "metadata": {},
     "output_type": "execute_result"
    }
   ],
   "source": [
    "string=\" My name is the python developer \"\n",
    "data = [len(word) for word in string.split()]\n",
    "data.sort()\n",
    "data[-1]"
   ]
  },
  {
   "cell_type": "code",
   "execution_count": null,
   "id": "utility-tenant",
   "metadata": {},
   "outputs": [],
   "source": [
    "x=[[1,2,3],[4,5,6],[7,8,9]]\n",
    "data=[[x[i][j] for i in range(3)] for j in range(3)]"
   ]
  }
 ],
 "metadata": {
  "kernelspec": {
   "display_name": "Python 3",
   "language": "python",
   "name": "python3"
  },
  "language_info": {
   "codemirror_mode": {
    "name": "ipython",
    "version": 3
   },
   "file_extension": ".py",
   "mimetype": "text/x-python",
   "name": "python",
   "nbconvert_exporter": "python",
   "pygments_lexer": "ipython3",
   "version": "3.8.7"
  }
 },
 "nbformat": 4,
 "nbformat_minor": 5
}
