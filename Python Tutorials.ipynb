{
 "cells": [
  {
   "cell_type": "markdown",
   "id": "outstanding-norfolk",
   "metadata": {},
   "source": [
    "# Dictionary Object Python"
   ]
  },
  {
   "cell_type": "code",
   "execution_count": 1,
   "id": "filled-right",
   "metadata": {},
   "outputs": [
    {
     "data": {
      "text/plain": [
       "{1: 'Dileep Kumar Patel',\n",
       " 2: 'Rohit Kumar singh',\n",
       " 3: 'Radhika Singh',\n",
       " 4: 'Mahendra singh',\n",
       " 5: 'rajendra singh',\n",
       " 6: 'Mohan bhagwat'}"
      ]
     },
     "execution_count": 1,
     "metadata": {},
     "output_type": "execute_result"
    }
   ],
   "source": [
    "dict1={1:\"Dileep Kumar Patel\",2:\"Rohit Kumar singh\",3:\"Radhika Singh\"}\n",
    "dict2={4:\"Mahendra singh\",5:\"rajendra singh\",6:\"Mohan bhagwat\"}\n",
    "dict3= {**dict1,**dict2}\n",
    "dict3"
   ]
  },
  {
   "cell_type": "code",
   "execution_count": 2,
   "id": "clean-motivation",
   "metadata": {},
   "outputs": [],
   "source": [
    "l = {key:val for d in [dict1,dict2] for key,val in d.items()}"
   ]
  },
  {
   "cell_type": "code",
   "execution_count": 3,
   "id": "organized-lexington",
   "metadata": {},
   "outputs": [
    {
     "data": {
      "text/plain": [
       "{1: 'Dileep Kumar Patel',\n",
       " 2: 'Rohit Kumar singh',\n",
       " 3: 'Radhika Singh',\n",
       " 4: 'Mahendra singh',\n",
       " 5: 'rajendra singh',\n",
       " 6: 'Mohan bhagwat'}"
      ]
     },
     "execution_count": 3,
     "metadata": {},
     "output_type": "execute_result"
    }
   ],
   "source": [
    "l"
   ]
  },
  {
   "cell_type": "code",
   "execution_count": 4,
   "id": "political-alias",
   "metadata": {},
   "outputs": [],
   "source": [
    "m={k:v for k,v in dict1.items()}"
   ]
  },
  {
   "cell_type": "code",
   "execution_count": 5,
   "id": "typical-occurrence",
   "metadata": {},
   "outputs": [
    {
     "data": {
      "text/plain": [
       "{1: 'Dileep Kumar Patel', 2: 'Rohit Kumar singh', 3: 'Radhika Singh'}"
      ]
     },
     "execution_count": 5,
     "metadata": {},
     "output_type": "execute_result"
    }
   ],
   "source": [
    "m"
   ]
  },
  {
   "cell_type": "code",
   "execution_count": 6,
   "id": "weekly-playback",
   "metadata": {},
   "outputs": [],
   "source": [
    "n={d for d in dict2.items()}"
   ]
  },
  {
   "cell_type": "code",
   "execution_count": 7,
   "id": "spare-moldova",
   "metadata": {},
   "outputs": [
    {
     "data": {
      "text/plain": [
       "{(4, 'Mahendra singh'), (5, 'rajendra singh'), (6, 'Mohan bhagwat')}"
      ]
     },
     "execution_count": 7,
     "metadata": {},
     "output_type": "execute_result"
    }
   ],
   "source": [
    "n"
   ]
  },
  {
   "cell_type": "code",
   "execution_count": 8,
   "id": "quality-helping",
   "metadata": {},
   "outputs": [],
   "source": [
    "data=dict(zip([1,2,3,4,5,6,7,8,9,10],[\"A\",\"B\",\"C\",\"D\",\"E\",\"F\",\"G\",\"H\",\"I\",\"J\"]))"
   ]
  },
  {
   "cell_type": "code",
   "execution_count": 9,
   "id": "floating-cathedral",
   "metadata": {},
   "outputs": [
    {
     "data": {
      "text/plain": [
       "dict_keys([1, 2, 3, 4, 5, 6, 7, 8, 9, 10])"
      ]
     },
     "execution_count": 9,
     "metadata": {},
     "output_type": "execute_result"
    }
   ],
   "source": [
    "data.keys()"
   ]
  },
  {
   "cell_type": "code",
   "execution_count": 10,
   "id": "cardiovascular-turtle",
   "metadata": {},
   "outputs": [
    {
     "data": {
      "text/plain": [
       "dict_values(['A', 'B', 'C', 'D', 'E', 'F', 'G', 'H', 'I', 'J'])"
      ]
     },
     "execution_count": 10,
     "metadata": {},
     "output_type": "execute_result"
    }
   ],
   "source": [
    "data.values()"
   ]
  },
  {
   "cell_type": "code",
   "execution_count": 11,
   "id": "hairy-pleasure",
   "metadata": {},
   "outputs": [],
   "source": [
    "mydata ={val:key**2 for key, val in data.items()}"
   ]
  },
  {
   "cell_type": "code",
   "execution_count": 12,
   "id": "extreme-wallpaper",
   "metadata": {},
   "outputs": [
    {
     "data": {
      "text/plain": [
       "{'A': 1,\n",
       " 'B': 4,\n",
       " 'C': 9,\n",
       " 'D': 16,\n",
       " 'E': 25,\n",
       " 'F': 36,\n",
       " 'G': 49,\n",
       " 'H': 64,\n",
       " 'I': 81,\n",
       " 'J': 100}"
      ]
     },
     "execution_count": 12,
     "metadata": {},
     "output_type": "execute_result"
    }
   ],
   "source": [
    "mydata"
   ]
  },
  {
   "cell_type": "code",
   "execution_count": 13,
   "id": "extended-luxury",
   "metadata": {},
   "outputs": [
    {
     "data": {
      "text/plain": [
       "{'A': 1,\n",
       " 'B': 4,\n",
       " 'C': 9,\n",
       " 'D': 16,\n",
       " 'E': 25,\n",
       " 'F': 36,\n",
       " 'G': 49,\n",
       " 'H': 64,\n",
       " 'I': 81,\n",
       " 'J': 100}"
      ]
     },
     "execution_count": 13,
     "metadata": {},
     "output_type": "execute_result"
    }
   ],
   "source": [
    " mydata"
   ]
  },
  {
   "cell_type": "code",
   "execution_count": 14,
   "id": "optical-insured",
   "metadata": {},
   "outputs": [],
   "source": [
    "import pandas as pd"
   ]
  },
  {
   "cell_type": "code",
   "execution_count": 15,
   "id": "scenic-investigation",
   "metadata": {},
   "outputs": [],
   "source": [
    "mydict={\"Name\":[\"Dileep Kumar Patel\",\"Rahul Kumar\",\"Mayang Kumar\",\"Rohit Kumar\",\"Danav Raj\"],\n",
    "       \"DIT\":[10,20,40,50,60],\n",
    "        \"Address\":[\"Ranchi\",\"Bokaro\",\"Faridabad\",\"Dhanbad\",\"Hydrabad\"],\n",
    "        \"Company\":[\"Amazon\",\"IBM\",\"Oracle\",\"Microsoft\",\"Flipcart\"]\n",
    "       }"
   ]
  },
  {
   "cell_type": "code",
   "execution_count": 38,
   "id": "white-tutorial",
   "metadata": {},
   "outputs": [],
   "source": [
    "df =pd.DataFrame(mydict)"
   ]
  },
  {
   "cell_type": "code",
   "execution_count": 43,
   "id": "united-rates",
   "metadata": {},
   "outputs": [],
   "source": [
    "df.to_csv('Company.csv',index=False)"
   ]
  },
  {
   "cell_type": "code",
   "execution_count": 48,
   "id": "worst-attitude",
   "metadata": {},
   "outputs": [
    {
     "data": {
      "text/html": [
       "<div>\n",
       "<style scoped>\n",
       "    .dataframe tbody tr th:only-of-type {\n",
       "        vertical-align: middle;\n",
       "    }\n",
       "\n",
       "    .dataframe tbody tr th {\n",
       "        vertical-align: top;\n",
       "    }\n",
       "\n",
       "    .dataframe thead th {\n",
       "        text-align: right;\n",
       "    }\n",
       "</style>\n",
       "<table border=\"1\" class=\"dataframe\">\n",
       "  <thead>\n",
       "    <tr style=\"text-align: right;\">\n",
       "      <th></th>\n",
       "      <th>Name</th>\n",
       "      <th>DIT</th>\n",
       "      <th>Address</th>\n",
       "      <th>Company</th>\n",
       "    </tr>\n",
       "  </thead>\n",
       "  <tbody>\n",
       "    <tr>\n",
       "      <th>0</th>\n",
       "      <td>Dileep Kumar Patel</td>\n",
       "      <td>10</td>\n",
       "      <td>Ranchi</td>\n",
       "      <td>Amazon</td>\n",
       "    </tr>\n",
       "    <tr>\n",
       "      <th>1</th>\n",
       "      <td>Rahul Kumar</td>\n",
       "      <td>20</td>\n",
       "      <td>Bokaro</td>\n",
       "      <td>IBM</td>\n",
       "    </tr>\n",
       "    <tr>\n",
       "      <th>2</th>\n",
       "      <td>Mayang Kumar</td>\n",
       "      <td>40</td>\n",
       "      <td>Faridabad</td>\n",
       "      <td>Oracle</td>\n",
       "    </tr>\n",
       "    <tr>\n",
       "      <th>3</th>\n",
       "      <td>Rohit Kumar</td>\n",
       "      <td>50</td>\n",
       "      <td>Dhanbad</td>\n",
       "      <td>Microsoft</td>\n",
       "    </tr>\n",
       "    <tr>\n",
       "      <th>4</th>\n",
       "      <td>Danav Raj</td>\n",
       "      <td>60</td>\n",
       "      <td>Hydrabad</td>\n",
       "      <td>Flipcart</td>\n",
       "    </tr>\n",
       "  </tbody>\n",
       "</table>\n",
       "</div>"
      ],
      "text/plain": [
       "                 Name  DIT    Address    Company\n",
       "0  Dileep Kumar Patel   10     Ranchi     Amazon\n",
       "1         Rahul Kumar   20     Bokaro        IBM\n",
       "2        Mayang Kumar   40  Faridabad     Oracle\n",
       "3         Rohit Kumar   50    Dhanbad  Microsoft\n",
       "4           Danav Raj   60   Hydrabad   Flipcart"
      ]
     },
     "execution_count": 48,
     "metadata": {},
     "output_type": "execute_result"
    }
   ],
   "source": [
    "df=pd.read_csv('Company.csv')\n",
    "df"
   ]
  },
  {
   "cell_type": "code",
   "execution_count": 18,
   "id": "blond-country",
   "metadata": {},
   "outputs": [
    {
     "data": {
      "text/html": [
       "<div>\n",
       "<style scoped>\n",
       "    .dataframe tbody tr th:only-of-type {\n",
       "        vertical-align: middle;\n",
       "    }\n",
       "\n",
       "    .dataframe tbody tr th {\n",
       "        vertical-align: top;\n",
       "    }\n",
       "\n",
       "    .dataframe thead th {\n",
       "        text-align: right;\n",
       "    }\n",
       "</style>\n",
       "<table border=\"1\" class=\"dataframe\">\n",
       "  <thead>\n",
       "    <tr style=\"text-align: right;\">\n",
       "      <th></th>\n",
       "      <th>DIT</th>\n",
       "    </tr>\n",
       "  </thead>\n",
       "  <tbody>\n",
       "    <tr>\n",
       "      <th>count</th>\n",
       "      <td>5.000000</td>\n",
       "    </tr>\n",
       "    <tr>\n",
       "      <th>mean</th>\n",
       "      <td>36.000000</td>\n",
       "    </tr>\n",
       "    <tr>\n",
       "      <th>std</th>\n",
       "      <td>20.736441</td>\n",
       "    </tr>\n",
       "    <tr>\n",
       "      <th>min</th>\n",
       "      <td>10.000000</td>\n",
       "    </tr>\n",
       "    <tr>\n",
       "      <th>25%</th>\n",
       "      <td>20.000000</td>\n",
       "    </tr>\n",
       "    <tr>\n",
       "      <th>50%</th>\n",
       "      <td>40.000000</td>\n",
       "    </tr>\n",
       "    <tr>\n",
       "      <th>75%</th>\n",
       "      <td>50.000000</td>\n",
       "    </tr>\n",
       "    <tr>\n",
       "      <th>max</th>\n",
       "      <td>60.000000</td>\n",
       "    </tr>\n",
       "  </tbody>\n",
       "</table>\n",
       "</div>"
      ],
      "text/plain": [
       "             DIT\n",
       "count   5.000000\n",
       "mean   36.000000\n",
       "std    20.736441\n",
       "min    10.000000\n",
       "25%    20.000000\n",
       "50%    40.000000\n",
       "75%    50.000000\n",
       "max    60.000000"
      ]
     },
     "execution_count": 18,
     "metadata": {},
     "output_type": "execute_result"
    }
   ],
   "source": [
    "df.describe()"
   ]
  },
  {
   "cell_type": "code",
   "execution_count": 19,
   "id": "located-device",
   "metadata": {},
   "outputs": [],
   "source": [
    "j ={'a': [1, 2, 3, 4], 'b': ['one', 'two', 'three']}\n"
   ]
  },
  {
   "cell_type": "code",
   "execution_count": 20,
   "id": "characteristic-australia",
   "metadata": {},
   "outputs": [
    {
     "data": {
      "text/plain": [
       "{'a': [1, 2, 3, 4], 'b': ['one', 'two', 'three']}"
      ]
     },
     "execution_count": 20,
     "metadata": {},
     "output_type": "execute_result"
    }
   ],
   "source": [
    "j"
   ]
  },
  {
   "cell_type": "code",
   "execution_count": 21,
   "id": "fuzzy-wisdom",
   "metadata": {},
   "outputs": [],
   "source": [
    "j['a'].extend([5,6,7,8,9])"
   ]
  },
  {
   "cell_type": "code",
   "execution_count": 22,
   "id": "raising-warren",
   "metadata": {},
   "outputs": [
    {
     "data": {
      "text/plain": [
       "{'a': [1, 2, 3, 4, 5, 6, 7, 8, 9], 'b': ['one', 'two', 'three']}"
      ]
     },
     "execution_count": 22,
     "metadata": {},
     "output_type": "execute_result"
    }
   ],
   "source": [
    "j"
   ]
  },
  {
   "cell_type": "code",
   "execution_count": 23,
   "id": "overall-biodiversity",
   "metadata": {},
   "outputs": [],
   "source": [
    "j['b'].append(['Four','Five','Six','Seven','Eight','Nine'])"
   ]
  },
  {
   "cell_type": "code",
   "execution_count": 24,
   "id": "electric-armstrong",
   "metadata": {},
   "outputs": [
    {
     "data": {
      "text/plain": [
       "{'a': [1, 2, 3, 4, 5, 6, 7, 8, 9],\n",
       " 'b': ['one',\n",
       "  'two',\n",
       "  'three',\n",
       "  ['Four', 'Five', 'Six', 'Seven', 'Eight', 'Nine']]}"
      ]
     },
     "execution_count": 24,
     "metadata": {},
     "output_type": "execute_result"
    }
   ],
   "source": [
    "j"
   ]
  },
  {
   "cell_type": "code",
   "execution_count": 25,
   "id": "framed-sleep",
   "metadata": {},
   "outputs": [
    {
     "data": {
      "text/plain": [
       "dict_keys(['a', 'b'])"
      ]
     },
     "execution_count": 25,
     "metadata": {},
     "output_type": "execute_result"
    }
   ],
   "source": [
    "j.keys()"
   ]
  },
  {
   "cell_type": "code",
   "execution_count": 26,
   "id": "sharp-retirement",
   "metadata": {},
   "outputs": [
    {
     "data": {
      "text/plain": [
       "[1, 2, 3, 4, 5, 6, 7, 8, 9]"
      ]
     },
     "execution_count": 26,
     "metadata": {},
     "output_type": "execute_result"
    }
   ],
   "source": [
    "j['a']"
   ]
  },
  {
   "cell_type": "code",
   "execution_count": 27,
   "id": "minute-pregnancy",
   "metadata": {},
   "outputs": [
    {
     "data": {
      "text/plain": [
       "['one', 'two', 'three', ['Four', 'Five', 'Six', 'Seven', 'Eight', 'Nine']]"
      ]
     },
     "execution_count": 27,
     "metadata": {},
     "output_type": "execute_result"
    }
   ],
   "source": [
    "j['b']"
   ]
  },
  {
   "cell_type": "code",
   "execution_count": 28,
   "id": "skilled-injury",
   "metadata": {},
   "outputs": [
    {
     "data": {
      "text/plain": [
       "['Four', 'Five', 'Six', 'Seven', 'Eight', 'Nine']"
      ]
     },
     "execution_count": 28,
     "metadata": {},
     "output_type": "execute_result"
    }
   ],
   "source": [
    "j['b'][3]"
   ]
  },
  {
   "cell_type": "code",
   "execution_count": 29,
   "id": "young-newport",
   "metadata": {},
   "outputs": [
    {
     "name": "stdout",
     "output_type": "stream",
     "text": [
      "[0, 2, 4, 6, 8, 10, 12, 14, 16, 18, 20, 22, 24, 26, 28, 30, 32, 34, 36, 38, 40, 42, 44, 46, 48, 50, 52, 54, 56, 58, 60, 62, 64, 66, 68, 70, 72, 74, 76, 78, 80, 82, 84, 86, 88, 90, 92, 94, 96, 98]\n"
     ]
    }
   ],
   "source": [
    "print([x for x in range(100) if x%2==0])"
   ]
  },
  {
   "cell_type": "code",
   "execution_count": 30,
   "id": "acting-ballet",
   "metadata": {},
   "outputs": [
    {
     "name": "stdout",
     "output_type": "stream",
     "text": [
      "[1, 3, 5, 7, 9, 11, 13, 15, 17, 19, 21, 23, 25, 27, 29, 31, 33, 35, 37, 39, 41, 43, 45, 47, 49, 51, 53, 55, 57, 59, 61, 63, 65, 67, 69, 71, 73, 75, 77, 79, 81, 83, 85, 87, 89, 91, 93, 95, 97, 99]\n"
     ]
    }
   ],
   "source": [
    "print([x for x in range(100) if x%2!=0])"
   ]
  },
  {
   "cell_type": "code",
   "execution_count": 34,
   "id": "stable-validity",
   "metadata": {},
   "outputs": [
    {
     "name": "stdout",
     "output_type": "stream",
     "text": [
      "[2, 3, 5, 7, 11, 13, 17, 19, 23, 29, 31, 37, 41, 43, 47, 53, 59, 61, 67, 71, 73, 79, 83, 89, 97]\n"
     ]
    }
   ],
   "source": [
    "print([n for n in range(2,100) if 0 not in [n%r for r in range(2,n//2+1)]])"
   ]
  },
  {
   "cell_type": "code",
   "execution_count": 50,
   "id": "miniature-formation",
   "metadata": {},
   "outputs": [
    {
     "name": "stdout",
     "output_type": "stream",
     "text": [
      "Enter any number :35689545\n",
      "Sum of digit : 45\n"
     ]
    }
   ],
   "source": [
    "#Write a program to  sum of digit numbers\n",
    "num=int(input(\"Enter any number :\"))\n",
    "add=0\n",
    "while num>0:\n",
    "    r=num%10\n",
    "    add=add+r\n",
    "    num = num//10\n",
    "print(\"Sum of digit :\",add)"
   ]
  },
  {
   "cell_type": "code",
   "execution_count": 51,
   "id": "allied-niagara",
   "metadata": {},
   "outputs": [
    {
     "name": "stdout",
     "output_type": "stream",
     "text": [
      "Enter any number :20\n",
      "Factors of Number : [1, 2, 4, 5, 10, 20]\n"
     ]
    }
   ],
   "source": [
    "# Write a program to print factor of input number\n",
    "num = int(input(\"Enter any number :\"))\n",
    "a =[]\n",
    "for i in range(1,num+1):\n",
    "    if num%i==0:\n",
    "        a.append(i)\n",
    "print(\"Factors of Number :\",a)"
   ]
  },
  {
   "cell_type": "code",
   "execution_count": 56,
   "id": "exact-holly",
   "metadata": {},
   "outputs": [
    {
     "name": "stdout",
     "output_type": "stream",
     "text": [
      "Enter any number :56895456\n",
      "Reverse : 65459865\n"
     ]
    }
   ],
   "source": [
    "# Write a program to print reverse of input number\n",
    "num= int(input(\"Enter any number :\"))\n",
    "s=0\n",
    "while num>0:\n",
    "    r=num%10\n",
    "    s= s*10+r\n",
    "    num=num//10\n",
    "print(\"Reverse :\",s)"
   ]
  },
  {
   "cell_type": "code",
   "execution_count": 58,
   "id": "provincial-income",
   "metadata": {},
   "outputs": [
    {
     "name": "stdout",
     "output_type": "stream",
     "text": [
      "Enter any number :50\n",
      "Factors : [1, 2, 5, 10, 25, 50] \n",
      "Sum : 93\n"
     ]
    }
   ],
   "source": [
    "# Write a program to print sum all factor of a number\n",
    "num = int(input(\"Enter any number :\"))\n",
    "s=[]\n",
    "for i in range(1,num+1):\n",
    "    if num%i==0:\n",
    "        s.append(i)\n",
    "print(\"Factors :\",s,\"\\nSum :\",sum(s))"
   ]
  },
  {
   "cell_type": "code",
   "execution_count": 60,
   "id": "revised-access",
   "metadata": {},
   "outputs": [
    {
     "name": "stdout",
     "output_type": "stream",
     "text": [
      "Enter any number :50\n",
      "50 * 1 = 50\n",
      "50 * 2 = 100\n",
      "50 * 3 = 150\n",
      "50 * 4 = 200\n",
      "50 * 5 = 250\n",
      "50 * 6 = 300\n",
      "50 * 7 = 350\n",
      "50 * 8 = 400\n",
      "50 * 9 = 450\n",
      "50 * 10 = 500\n"
     ]
    }
   ],
   "source": [
    "#Write a program to print table of input number\n",
    "num = int(input(\"Enter any number :\"))\n",
    "for i in range(1,11):\n",
    "    print(num,\"*\",i,\"=\",num*i)\n"
   ]
  },
  {
   "cell_type": "code",
   "execution_count": 65,
   "id": "spatial-bangladesh",
   "metadata": {},
   "outputs": [],
   "source": [
    "import keyword as key"
   ]
  },
  {
   "cell_type": "code",
   "execution_count": 70,
   "id": "quality-syria",
   "metadata": {},
   "outputs": [
    {
     "name": "stdout",
     "output_type": "stream",
     "text": [
      "['False', 'None', 'True', 'and', 'as', 'assert', 'async', 'await', 'break', 'class', 'continue', 'def', 'del', 'elif', 'else', 'except', 'finally', 'for', 'from', 'global', 'if', 'import', 'in', 'is', 'lambda', 'nonlocal', 'not', 'or', 'pass', 'raise', 'return', 'try', 'while', 'with', 'yield']\n"
     ]
    }
   ],
   "source": [
    "#Write a program to print keyword in python\n",
    "a=[]\n",
    "for kwd in key.kwlist:\n",
    "    a.append(kwd)\n",
    "print(a)"
   ]
  },
  {
   "cell_type": "code",
   "execution_count": 71,
   "id": "expected-subsection",
   "metadata": {},
   "outputs": [],
   "source": [
    "import os"
   ]
  },
  {
   "cell_type": "code",
   "execution_count": 72,
   "id": "previous-minute",
   "metadata": {},
   "outputs": [
    {
     "name": "stdout",
     "output_type": "stream",
     "text": [
      "C:\\Users\\Dileep-Pcs\\OneDrive\\Desktop\\Python\n"
     ]
    }
   ],
   "source": [
    "print(os.getcwd())"
   ]
  },
  {
   "cell_type": "markdown",
   "id": "increasing-heart",
   "metadata": {},
   "source": [
    "# Program to print format"
   ]
  },
  {
   "cell_type": "code",
   "execution_count": 75,
   "id": "protective-familiar",
   "metadata": {},
   "outputs": [
    {
     "name": "stdout",
     "output_type": "stream",
     "text": [
      "Enter no of rows :5\n",
      "Enter no of cols :5\n",
      "# # # # # \n",
      "# # # # # \n",
      "# # # # # \n",
      "# # # # # \n",
      "# # # # # \n"
     ]
    }
   ],
   "source": [
    "rows= int(input(\"Enter no of rows :\"))\n",
    "cols= int(input(\"Enter no of cols :\"))\n",
    "for i in range(rows):\n",
    "    for j in range(cols):\n",
    "        print(\"#\",end=\" \")\n",
    "    print()"
   ]
  },
  {
   "cell_type": "code",
   "execution_count": 76,
   "id": "fossil-collectible",
   "metadata": {},
   "outputs": [
    {
     "name": "stdout",
     "output_type": "stream",
     "text": [
      "Enter no of rows :10\n",
      "Enter no of cols :20\n",
      "* \n",
      "* * \n",
      "* * * \n",
      "* * * * \n",
      "* * * * * \n",
      "* * * * * * \n",
      "* * * * * * * \n",
      "* * * * * * * * \n",
      "* * * * * * * * * \n",
      "* * * * * * * * * * \n"
     ]
    }
   ],
   "source": [
    "rows= int(input(\"Enter no of rows :\"))\n",
    "cols= int(input(\"Enter no of cols :\"))\n",
    "for i in range(rows):\n",
    "    for j in range(0,i+1):\n",
    "        print(\"*\",end=\" \")\n",
    "    print()"
   ]
  },
  {
   "cell_type": "code",
   "execution_count": 3,
   "id": "biblical-beijing",
   "metadata": {},
   "outputs": [
    {
     "name": "stdout",
     "output_type": "stream",
     "text": [
      "Enter no of rows :5\n",
      "Enter no of cols :5\n",
      "1 \n",
      "1 2 \n",
      "1 2 3 \n",
      "1 2 3 4 \n",
      "1 2 3 4 5 \n"
     ]
    }
   ],
   "source": [
    "rows= int(input(\"Enter no of rows :\"))\n",
    "cols= int(input(\"Enter no of cols :\"))\n",
    "for i in range(1,rows+1):\n",
    "    for j in range(1,i+1):\n",
    "        print(j,end=\" \")\n",
    "    print()"
   ]
  },
  {
   "cell_type": "code",
   "execution_count": 10,
   "id": "cordless-preserve",
   "metadata": {},
   "outputs": [
    {
     "name": "stdout",
     "output_type": "stream",
     "text": [
      "Enter no of rows :8\n",
      "Enter no of cols :8\n",
      "1 \n",
      "2 2 \n",
      "3 3 3 \n",
      "4 4 4 4 \n",
      "5 5 5 5 5 \n",
      "6 6 6 6 6 6 \n",
      "7 7 7 7 7 7 7 \n",
      "8 8 8 8 8 8 8 8 \n"
     ]
    }
   ],
   "source": [
    "rows= int(input(\"Enter no of rows :\"))\n",
    "cols= int(input(\"Enter no of cols :\"))\n",
    "for i in range(1,rows+1):\n",
    "    for j in range(1,i+1):\n",
    "        print(i,end=\" \")\n",
    "    print()"
   ]
  },
  {
   "cell_type": "code",
   "execution_count": 11,
   "id": "optical-gilbert",
   "metadata": {},
   "outputs": [
    {
     "name": "stdout",
     "output_type": "stream",
     "text": [
      "Enter no of rows :5\n",
      "Enter no of cols :5\n",
      "5 5 5 5 5 \n",
      "4 4 4 4 \n",
      "3 3 3 \n",
      "2 2 \n",
      "1 \n"
     ]
    }
   ],
   "source": [
    "rows= int(input(\"Enter no of rows :\"))\n",
    "cols= int(input(\"Enter no of cols :\"))\n",
    "for i in range(rows,0,-1):\n",
    "    for j in range(i,0,-1):\n",
    "        print(i,end=\" \")\n",
    "    print()"
   ]
  },
  {
   "cell_type": "code",
   "execution_count": 12,
   "id": "flush-intro",
   "metadata": {},
   "outputs": [
    {
     "name": "stdout",
     "output_type": "stream",
     "text": [
      "Enter no of rows :5\n",
      "Enter no of cols :5\n",
      "5 4 3 2 1 \n",
      "4 3 2 1 \n",
      "3 2 1 \n",
      "2 1 \n",
      "1 \n"
     ]
    }
   ],
   "source": [
    "rows= int(input(\"Enter no of rows :\"))\n",
    "cols= int(input(\"Enter no of cols :\"))\n",
    "for i in range(rows,0,-1):\n",
    "    for j in range(i,0,-1):\n",
    "        print(j,end=\" \")\n",
    "    print()"
   ]
  },
  {
   "cell_type": "code",
   "execution_count": 70,
   "id": "intensive-underwear",
   "metadata": {},
   "outputs": [
    {
     "name": "stdout",
     "output_type": "stream",
     "text": [
      "Enter no of rows :5\n",
      "Enter no of cols :5\n",
      "* * * * * \n",
      "* * * * \n",
      "* * * \n",
      "* * \n",
      "* \n"
     ]
    }
   ],
   "source": [
    "rows= int(input(\"Enter no of rows :\"))\n",
    "cols= int(input(\"Enter no of cols :\"))\n",
    "for i in range(rows,0,-1):\n",
    "    for j in range(i,0,-1):\n",
    "        print(\"*\",end=\" \")\n",
    "    print()"
   ]
  },
  {
   "cell_type": "code",
   "execution_count": 13,
   "id": "systematic-sword",
   "metadata": {},
   "outputs": [
    {
     "name": "stdout",
     "output_type": "stream",
     "text": [
      "Enter no of rows :5\n",
      "Enter no of cols :5\n",
      "1 \n",
      "2 3 \n",
      "4 5 6 \n",
      "7 8 9 10 \n",
      "11 12 13 14 15 \n"
     ]
    }
   ],
   "source": [
    "rows= int(input(\"Enter no of rows :\"))\n",
    "cols= int(input(\"Enter no of cols :\"))\n",
    "count=1\n",
    "for i in range(1,rows+1):\n",
    "    for j in range(1,i+1):\n",
    "        print(count,end=\" \")\n",
    "        count+=1\n",
    "    print()"
   ]
  },
  {
   "cell_type": "code",
   "execution_count": 18,
   "id": "delayed-nation",
   "metadata": {},
   "outputs": [
    {
     "name": "stdout",
     "output_type": "stream",
     "text": [
      "Enter no of rows :5\n",
      "Enter no of cols :5\n",
      "     1\n",
      "    121\n",
      "   12312\n",
      "  1234123\n",
      " 123451234\n"
     ]
    }
   ],
   "source": [
    "rows= int(input(\"Enter no of rows :\"))\n",
    "cols= int(input(\"Enter no of cols :\"))\n",
    "for i in range(1,rows+1):\n",
    "    for k in range(rows-i+1,0,-1):\n",
    "        print(\" \",end=\"\")\n",
    "    for j in range(1,i+1):\n",
    "        print(j,end=\"\")\n",
    "    for k in range(1,i+1-1):\n",
    "        print(k,end=\"\")\n",
    "    print()"
   ]
  },
  {
   "cell_type": "code",
   "execution_count": 19,
   "id": "deadly-evanescence",
   "metadata": {},
   "outputs": [
    {
     "name": "stdout",
     "output_type": "stream",
     "text": [
      "Enter no of rows :10\n",
      "Enter no of cols :10\n",
      "          *\n",
      "         ***\n",
      "        *****\n",
      "       *******\n",
      "      *********\n",
      "     ***********\n",
      "    *************\n",
      "   ***************\n",
      "  *****************\n",
      " *******************\n"
     ]
    }
   ],
   "source": [
    "rows= int(input(\"Enter no of rows :\"))\n",
    "cols= int(input(\"Enter no of cols :\"))\n",
    "for i in range(1,rows+1):\n",
    "    for k in range(rows-i+1,0,-1):\n",
    "        print(\" \",end=\"\")\n",
    "    for j in range(1,i+1):\n",
    "        print(\"*\",end=\"\")\n",
    "    for k in range(1,i+1-1):\n",
    "        print(\"*\",end=\"\")\n",
    "    print()"
   ]
  },
  {
   "cell_type": "code",
   "execution_count": 55,
   "id": "color-prescription",
   "metadata": {},
   "outputs": [
    {
     "name": "stdout",
     "output_type": "stream",
     "text": [
      "Enter no of rows :10\n",
      "Enter no of cols :10\n",
      "          *\n",
      "         **\n",
      "        ***\n",
      "       ****\n",
      "      *****\n",
      "     ******\n",
      "    *******\n",
      "   ********\n",
      "  *********\n",
      " **********\n",
      "  *********\n",
      "   ********\n",
      "    *******\n",
      "     ******\n",
      "      *****\n",
      "       ****\n",
      "        ***\n",
      "         **\n",
      "          *\n",
      "           \n"
     ]
    }
   ],
   "source": [
    "rows= int(input(\"Enter no of rows :\"))\n",
    "cols= int(input(\"Enter no of cols :\"))\n",
    "for i in range(1,rows+1):\n",
    "    for k in range(rows-i+1,0,-1):\n",
    "        print(\" \",end=\"\")\n",
    "    for j in range(1,i+1):\n",
    "        print(\"*\",end=\"\")\n",
    "    print()\n",
    "for i in range(1,rows+1):\n",
    "    for m in range(i+1,0,-1):\n",
    "        print(\" \",end=\"\")\n",
    "    for n in range(rows-i,0,-1):\n",
    "        print(\"*\",end=\"\")\n",
    "    print()"
   ]
  },
  {
   "cell_type": "code",
   "execution_count": 46,
   "id": "drawn-moment",
   "metadata": {},
   "outputs": [
    {
     "name": "stdout",
     "output_type": "stream",
     "text": [
      "enter no of rows :10\n",
      "enter no of cols :10\n",
      "*******************\n",
      " *****************\n",
      "  ***************\n",
      "   *************\n",
      "    ***********\n",
      "     *********\n",
      "      *******\n",
      "       *****\n",
      "        ***\n",
      "         *\n"
     ]
    }
   ],
   "source": [
    "# Write a program to print format\n",
    "r=int(input(\"enter no of rows :\"))\n",
    "c=int(input(\"enter no of cols :\"))\n",
    "for i in range(r,0,-1):\n",
    "    for k in range(r-i,0,-1):\n",
    "        print(end=\" \")\n",
    "    for j in range(1,i+1):\n",
    "        print(\"*\",end=\"\")\n",
    "    for m in range(1,i):\n",
    "        print(\"*\",end=\"\")\n",
    "    print()\n",
    "        "
   ]
  },
  {
   "cell_type": "code",
   "execution_count": 45,
   "id": "secret-phone",
   "metadata": {},
   "outputs": [
    {
     "name": "stdout",
     "output_type": "stream",
     "text": [
      "Enter term of number :20\n",
      "Fibanocci Sequences :\n",
      "0 1 1 2 3 5 8 13 21 34 55 89 144 233 377 610 987 1597 2584 4181 "
     ]
    }
   ],
   "source": [
    "#Write a program to print fibanocci sequence like 0 1 1 2 3 5 8 13 21 34 55 98.........n\n",
    "n = int(input(\"Enter term of number :\"))\n",
    "t1,t2,count=0,1,0\n",
    "print(\"Fibanocci Sequences :\")\n",
    "for i in range(n):\n",
    "    print(t1,end=\" \")\n",
    "    count=t1+t2\n",
    "    t1=t2\n",
    "    t2=count\n",
    "    \n",
    "    "
   ]
  },
  {
   "cell_type": "code",
   "execution_count": 25,
   "id": "interested-prefix",
   "metadata": {},
   "outputs": [
    {
     "name": "stdout",
     "output_type": "stream",
     "text": [
      "Enter any number :4\n",
      "24  is Factorial of  4\n"
     ]
    }
   ],
   "source": [
    "#Write a program to print factorial of entered numbers\n",
    "n = int(input(\"Enter any number :\"))\n",
    "fact=1\n",
    "for i in range(1,n+1):\n",
    "    fact= fact*i\n",
    "print(fact,\" is Factorial of \",n)"
   ]
  },
  {
   "cell_type": "code",
   "execution_count": 33,
   "id": "global-netherlands",
   "metadata": {},
   "outputs": [
    {
     "name": "stdout",
     "output_type": "stream",
     "text": [
      "Enter no of rows :3\n",
      "Enter no of cols :4\n",
      "Enter 1 row 1 Element :4\n",
      "Enter 1 row 2 Element :5\n",
      "Enter 1 row 3 Element :6\n",
      "Enter 1 row 4 Element :8\n",
      "Enter 2 row 1 Element :5\n",
      "Enter 2 row 2 Element :9\n",
      "Enter 2 row 3 Element :6\n",
      "Enter 2 row 4 Element :1\n",
      "Enter 3 row 1 Element :2\n",
      "Enter 3 row 2 Element :3\n",
      "Enter 3 row 3 Element :4\n",
      "Enter 3 row 4 Element :5\n",
      "Entered Matrix elements :\n",
      "[[4, 5, 6, 8], [5, 9, 6, 1], [2, 3, 4, 5]]\n"
     ]
    }
   ],
   "source": [
    "#Write a program print matrix\n",
    "rows = int(input(\"Enter no of rows :\"))\n",
    "cols = int(input(\"Enter no of cols :\"))\n",
    "matrix=[]\n",
    "for i in range(rows):\n",
    "    data=[]\n",
    "    for j in range(cols):\n",
    "        x= int(input(\"Enter \"+str(i+1)+\" row \"+str(j+1)+\" Element :\"))\n",
    "        data.append(x)\n",
    "    matrix.append(data)\n",
    "print(\"Entered Matrix elements :\")\n",
    "print(matrix)"
   ]
  },
  {
   "cell_type": "code",
   "execution_count": 56,
   "id": "supreme-custom",
   "metadata": {},
   "outputs": [
    {
     "name": "stdout",
     "output_type": "stream",
     "text": [
      "Enter no of rows :2\n",
      "Enter no of cols :1\n",
      "Enter 1 row 1 Element :5\n",
      "Enter 2 row 1 Element :7\n",
      "Entered Matrix elements :\n",
      "5 \n",
      "7 \n",
      "Entered Matrix Transpose :\n",
      "5 7 \n",
      "Sum of  Matrix : 12\n"
     ]
    }
   ],
   "source": [
    "# Write a program to display element of matrix\n",
    "rows = int(input(\"Enter no of rows :\"))\n",
    "cols = int(input(\"Enter no of cols :\"))\n",
    "matrix=[]\n",
    "for i in range(rows):\n",
    "    data=[]\n",
    "    for j in range(cols):\n",
    "        x= int(input(\"Enter \"+str(i+1)+\" row \"+str(j+1)+\" Element :\"))\n",
    "        data.append(x)\n",
    "    matrix.append(data)\n",
    "print(\"Entered Matrix elements :\")\n",
    "for i in range(rows):\n",
    "    for j in range(cols):\n",
    "        print(matrix[i][j],end=\" \")\n",
    "    print()\n",
    "# Write a program to print transpose of matrix\n",
    "print(\"Entered Matrix Transpose :\")\n",
    "for i in range(cols):\n",
    "    for j in range(rows):\n",
    "        print(matrix[j][i],end=\" \")\n",
    "    print()\n",
    "#Sum to matrix all elements :\n",
    "add=0\n",
    "for i in range(rows):\n",
    "    for j in range(cols):\n",
    "        add = add + matrix[i][j]\n",
    "print(\"Sum of  Matrix :\",add)\n"
   ]
  },
  {
   "cell_type": "code",
   "execution_count": null,
   "id": "retired-pasta",
   "metadata": {},
   "outputs": [],
   "source": []
  }
 ],
 "metadata": {
  "kernelspec": {
   "display_name": "Python 3",
   "language": "python",
   "name": "python3"
  },
  "language_info": {
   "codemirror_mode": {
    "name": "ipython",
    "version": 3
   },
   "file_extension": ".py",
   "mimetype": "text/x-python",
   "name": "python",
   "nbconvert_exporter": "python",
   "pygments_lexer": "ipython3",
   "version": "3.8.7"
  }
 },
 "nbformat": 4,
 "nbformat_minor": 5
}
