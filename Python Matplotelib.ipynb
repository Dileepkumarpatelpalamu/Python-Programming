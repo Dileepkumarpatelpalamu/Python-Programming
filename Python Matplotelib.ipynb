{
 "cells": [
  {
   "cell_type": "code",
   "execution_count": 5,
   "id": "republican-favor",
   "metadata": {},
   "outputs": [
    {
     "name": "stdout",
     "output_type": "stream",
     "text": [
      "Enter any number : 256\n",
      "Sum fo Digit is : 13\n"
     ]
    }
   ],
   "source": [
    "num = int(input(\"Enter any number : \"))\n",
    "s=0\n",
    "while num>0:\n",
    "    r = num%10\n",
    "    s= s+r\n",
    "    num = num//10\n",
    "print('Sum fo Digit is :',s)"
   ]
  },
  {
   "cell_type": "code",
   "execution_count": 6,
   "id": "illegal-cooperative",
   "metadata": {},
   "outputs": [
    {
     "name": "stdout",
     "output_type": "stream",
     "text": [
      "Enter any number : 568\n",
      "Reverse of number is : 865\n"
     ]
    }
   ],
   "source": [
    "num = int(input(\"Enter any number : \"))\n",
    "s=0\n",
    "while num>0:\n",
    "    r = num%10\n",
    "    s= s*10+r\n",
    "    num = num//10\n",
    "print('Reverse of number is :',s)"
   ]
  },
  {
   "cell_type": "code",
   "execution_count": 8,
   "id": "robust-sherman",
   "metadata": {},
   "outputs": [
    {
     "name": "stdout",
     "output_type": "stream",
     "text": [
      "Enter any number : 121\n",
      "Entered number is paridrome number \n"
     ]
    }
   ],
   "source": [
    "num = int(input(\"Enter any number : \"))\n",
    "s=0\n",
    "m = num\n",
    "while num>0:\n",
    "    r = num%10\n",
    "    s= s*10+r\n",
    "    num = num//10\n",
    "if m == s:\n",
    "    print(\"Entered number is paridrome number \")\n",
    "else:\n",
    "    print(\"Not pardraome \")"
   ]
  },
  {
   "cell_type": "code",
   "execution_count": 14,
   "id": "ranging-swimming",
   "metadata": {},
   "outputs": [
    {
     "name": "stdout",
     "output_type": "stream",
     "text": [
      "Enter any number : 153\n",
      "Entered number is armstrog number \n"
     ]
    }
   ],
   "source": [
    "num = int(input(\"Enter any number : \"))\n",
    "s=0\n",
    "m = num\n",
    "while num>0:\n",
    "    r = num%10\n",
    "    s= s+r**len(str(m))\n",
    "    num = num//10\n",
    "if m == s:\n",
    "    print(\"Entered number is armstrog number \")\n",
    "else:\n",
    "    print(\"Not not armstrong number \")"
   ]
  },
  {
   "cell_type": "code",
   "execution_count": 23,
   "id": "genetic-drove",
   "metadata": {},
   "outputs": [
    {
     "name": "stdout",
     "output_type": "stream",
     "text": [
      "Dileep length : 6\n",
      "D\n",
      "i\n",
      "l\n",
      "e\n",
      "e\n",
      "p\n",
      "Kumar length : 5\n",
      "K\n",
      "u\n",
      "m\n",
      "a\n",
      "r\n",
      "Patel length : 5\n",
      "P\n",
      "a\n",
      "t\n",
      "e\n",
      "l\n"
     ]
    }
   ],
   "source": [
    "sentence =\"Dileep Kumar Patel\"\n",
    "for i in sentence.split():\n",
    "    print(i, \"length :\",len(i))\n",
    "    for j in i: \n",
    "        print(j)"
   ]
  },
  {
   "cell_type": "code",
   "execution_count": 25,
   "id": "square-emphasis",
   "metadata": {},
   "outputs": [
    {
     "data": {
      "text/plain": [
       "'Dileep Kumar Patel'"
      ]
     },
     "execution_count": 25,
     "metadata": {},
     "output_type": "execute_result"
    }
   ],
   "source": [
    "sentence.title()"
   ]
  },
  {
   "cell_type": "code",
   "execution_count": 26,
   "id": "matched-process",
   "metadata": {},
   "outputs": [
    {
     "data": {
      "text/plain": [
       "'dileep kumar patel'"
      ]
     },
     "execution_count": 26,
     "metadata": {},
     "output_type": "execute_result"
    }
   ],
   "source": [
    "sentence.casefold()"
   ]
  },
  {
   "cell_type": "code",
   "execution_count": 34,
   "id": "plastic-casino",
   "metadata": {},
   "outputs": [
    {
     "data": {
      "text/plain": [
       "'dILEEP kUMAR pATEL'"
      ]
     },
     "execution_count": 34,
     "metadata": {},
     "output_type": "execute_result"
    }
   ],
   "source": [
    "sentence.swapcase()"
   ]
  },
  {
   "cell_type": "code",
   "execution_count": 35,
   "id": "voluntary-defeat",
   "metadata": {},
   "outputs": [
    {
     "data": {
      "text/plain": [
       "18"
      ]
     },
     "execution_count": 35,
     "metadata": {},
     "output_type": "execute_result"
    }
   ],
   "source": [
    "len(sentence)"
   ]
  },
  {
   "cell_type": "code",
   "execution_count": 36,
   "id": "detected-bikini",
   "metadata": {},
   "outputs": [
    {
     "data": {
      "text/plain": [
       "3"
      ]
     },
     "execution_count": 36,
     "metadata": {},
     "output_type": "execute_result"
    }
   ],
   "source": [
    "sentence.count('e')"
   ]
  },
  {
   "cell_type": "code",
   "execution_count": 37,
   "id": "individual-interference",
   "metadata": {},
   "outputs": [
    {
     "data": {
      "text/plain": [
       "False"
      ]
     },
     "execution_count": 37,
     "metadata": {},
     "output_type": "execute_result"
    }
   ],
   "source": [
    "sentence.isspace()"
   ]
  },
  {
   "cell_type": "code",
   "execution_count": 38,
   "id": "intimate-preliminary",
   "metadata": {},
   "outputs": [
    {
     "data": {
      "text/plain": [
       "[[1, 2, 3], [4, 5, 6], [7, 8, 9]]"
      ]
     },
     "execution_count": 38,
     "metadata": {},
     "output_type": "execute_result"
    }
   ],
   "source": [
    "x=[[1,2,3],[4,5,6],[7,8,9]]\n",
    "y=[[x[i][j] for j in range(len(x))] for i in range(len(x))]\n",
    "y"
   ]
  },
  {
   "cell_type": "code",
   "execution_count": 39,
   "id": "departmental-vessel",
   "metadata": {},
   "outputs": [
    {
     "data": {
      "text/plain": [
       "[[1, 4, 7], [2, 5, 8], [3, 6, 9]]"
      ]
     },
     "execution_count": 39,
     "metadata": {},
     "output_type": "execute_result"
    }
   ],
   "source": [
    "x=[[1,2,3],[4,5,6],[7,8,9]]\n",
    "y=[[x[j][i] for j in range(len(x))] for i in range(len(x))]\n",
    "y"
   ]
  },
  {
   "cell_type": "code",
   "execution_count": 41,
   "id": "cardiac-publication",
   "metadata": {},
   "outputs": [
    {
     "name": "stdout",
     "output_type": "stream",
     "text": [
      "1  Rows sum : 6\n",
      "2  Rows sum : 15\n",
      "3  Rows sum : 24\n"
     ]
    }
   ],
   "source": [
    "x=[[1,2,3],[4,5,6],[7,8,9]]\n",
    "for i in range(len(x)):\n",
    "    add = 0 \n",
    "    for j in range(len(x)):\n",
    "        add = add + x[i][j]\n",
    "    print(i+1,\" Rows sum :\",add)"
   ]
  },
  {
   "cell_type": "code",
   "execution_count": 42,
   "id": "exceptional-theme",
   "metadata": {},
   "outputs": [
    {
     "name": "stdout",
     "output_type": "stream",
     "text": [
      "1  cols sum : 12\n",
      "2  cols sum : 15\n",
      "3  cols sum : 18\n"
     ]
    }
   ],
   "source": [
    "x=[[1,2,3],[4,5,6],[7,8,9]]\n",
    "for i in range(len(x)):\n",
    "    add = 0 \n",
    "    for j in range(len(x)):\n",
    "        add = add + x[j][i]\n",
    "    print(i+1,\" cols sum :\",add)"
   ]
  },
  {
   "cell_type": "code",
   "execution_count": 43,
   "id": "generous-brook",
   "metadata": {},
   "outputs": [
    {
     "name": "stdout",
     "output_type": "stream",
     "text": [
      "Sum of Matrix Element  45\n"
     ]
    }
   ],
   "source": [
    "x=[[1,2,3],[4,5,6],[7,8,9]]\n",
    "add = 0 \n",
    "for i in range(len(x)):\n",
    "    for j in range(len(x)):\n",
    "        add = add + x[j][i]\n",
    "print(\"Sum of Matrix Element \",add)"
   ]
  },
  {
   "cell_type": "code",
   "execution_count": 44,
   "id": "intermediate-madison",
   "metadata": {},
   "outputs": [
    {
     "name": "stdout",
     "output_type": "stream",
     "text": [
      "\n",
      "* \n",
      "* * \n",
      "* * * \n",
      "* * * * \n"
     ]
    }
   ],
   "source": [
    "for i in range(5):\n",
    "    for j in range(i):\n",
    "        print(\"*\",end=\" \")\n",
    "    print()"
   ]
  },
  {
   "cell_type": "code",
   "execution_count": 46,
   "id": "interim-walnut",
   "metadata": {},
   "outputs": [
    {
     "name": "stdout",
     "output_type": "stream",
     "text": [
      "* * * * * \n",
      "* * * * \n",
      "* * * \n",
      "* * \n",
      "* \n"
     ]
    }
   ],
   "source": [
    "for i in range(5,0,-1):\n",
    "    for j in range(i,0,-1):\n",
    "        print(\"*\",end=\" \")\n",
    "    print()"
   ]
  },
  {
   "cell_type": "code",
   "execution_count": 48,
   "id": "configured-stocks",
   "metadata": {},
   "outputs": [
    {
     "name": "stdout",
     "output_type": "stream",
     "text": [
      "Enter any number :10\n",
      "Binary number :  1010\n"
     ]
    }
   ],
   "source": [
    "# Write a program to convert decimal to binary\n",
    "num = int(input(\"Enter any number :\"))\n",
    "binary=''\n",
    "while num>0:\n",
    "    r = num%2\n",
    "    binary = binary + str(r)\n",
    "    num = num//2\n",
    "print('Binary number : ',binary[::-1])\n",
    "    "
   ]
  },
  {
   "cell_type": "code",
   "execution_count": 60,
   "id": "least-connection",
   "metadata": {},
   "outputs": [
    {
     "name": "stdout",
     "output_type": "stream",
     "text": [
      "Enter Binary number :1010\n",
      "Decimal number :  10\n"
     ]
    }
   ],
   "source": [
    "# Write a program to convert binary to Decimal\n",
    "num = int(input(\"Enter Binary number :\"))\n",
    "base = 2\n",
    "decimal=0\n",
    "i=0\n",
    "while num>0:\n",
    "    r = num%10\n",
    "    decimal = decimal + r*(base**i)\n",
    "    i+=1\n",
    "    num = num//10\n",
    "print('Decimal number : ',decimal)"
   ]
  }
 ],
 "metadata": {
  "kernelspec": {
   "display_name": "Python 3",
   "language": "python",
   "name": "python3"
  },
  "language_info": {
   "codemirror_mode": {
    "name": "ipython",
    "version": 3
   },
   "file_extension": ".py",
   "mimetype": "text/x-python",
   "name": "python",
   "nbconvert_exporter": "python",
   "pygments_lexer": "ipython3",
   "version": "3.8.7"
  }
 },
 "nbformat": 4,
 "nbformat_minor": 5
}
