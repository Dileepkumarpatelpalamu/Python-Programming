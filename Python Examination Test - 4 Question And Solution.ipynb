{
 "cells": [
  {
   "cell_type": "markdown",
   "id": "needed-wheat",
   "metadata": {},
   "source": [
    "# Python Examination Test - 4 Question And Solution"
   ]
  },
  {
   "cell_type": "markdown",
   "id": "oriental-gilbert",
   "metadata": {},
   "source": [
    "#### 1. write code to display following matrix in matrix format?\n",
    "\t   X=[[1,2,3],[4,5,6],[7,8,9]]\n"
   ]
  },
  {
   "cell_type": "code",
   "execution_count": 3,
   "id": "incident-framing",
   "metadata": {},
   "outputs": [
    {
     "name": "stdout",
     "output_type": "stream",
     "text": [
      "[[1, 2, 3], [4, 5, 6], [7, 8, 9]]\n"
     ]
    }
   ],
   "source": [
    "X=[[1,2,3],[4,5,6],[7,8,9]]\n",
    "print([[X[i][j] for j in range(len(X))] for i in range(len(X))])"
   ]
  },
  {
   "cell_type": "markdown",
   "id": "continuing-discipline",
   "metadata": {},
   "source": [
    "#### 2. write a program to find sum of the principal diagnol elements of the matrix?"
   ]
  },
  {
   "cell_type": "code",
   "execution_count": 5,
   "id": "specialized-grenada",
   "metadata": {},
   "outputs": [
    {
     "name": "stdout",
     "output_type": "stream",
     "text": [
      "Sum of Principal diagnol element of Matrix :  15\n"
     ]
    }
   ],
   "source": [
    "x=[[1,2,3],[4,5,6],[7,8,9]]\n",
    "add=0\n",
    "for i in range(len(x)):\n",
    "    for j in range(len(x)):\n",
    "        if i == j:\n",
    "            add = add + x[i][j]\n",
    "print(\"Sum of Principal diagnol element of Matrix : \",add)"
   ]
  },
  {
   "cell_type": "markdown",
   "id": "dried-duncan",
   "metadata": {},
   "source": [
    "#### 3.\n",
    "       x=[10,20,30]\n",
    "       y=[10,20,30]\n",
    "       (i) .x is y ........\n",
    "       (ii) . x==y --------"
   ]
  },
  {
   "cell_type": "code",
   "execution_count": 8,
   "id": "greatest-retreat",
   "metadata": {},
   "outputs": [
    {
     "name": "stdout",
     "output_type": "stream",
     "text": [
      "False\n",
      "True\n"
     ]
    }
   ],
   "source": [
    "x=[10,20,30]\n",
    "y=[10,20,30]\n",
    "\n",
    "print(x is y)\n",
    "print(x==y)"
   ]
  },
  {
   "cell_type": "markdown",
   "id": "scenic-poverty",
   "metadata": {},
   "source": [
    "# Number program in python:-"
   ]
  },
  {
   "cell_type": "code",
   "execution_count": 2,
   "id": "sexual-woman",
   "metadata": {},
   "outputs": [
    {
     "name": "stdout",
     "output_type": "stream",
     "text": [
      "Enter any number : 25\n",
      "{'Odd Number'}\n"
     ]
    }
   ],
   "source": [
    "# Write a program number is odd or even\n",
    "num=int(input(\"Enter any number : \"))\n",
    "print({\"Even Number\" if num%2==0 else \"Odd Number\"})"
   ]
  },
  {
   "cell_type": "code",
   "execution_count": 6,
   "id": "august-scotland",
   "metadata": {},
   "outputs": [
    {
     "name": "stdout",
     "output_type": "stream",
     "text": [
      "Enter any number5\n",
      "Factorial of Number :  120\n"
     ]
    }
   ],
   "source": [
    "# Write a program to find factorial of number\n",
    "num= int(input(\"Enter any number\"))\n",
    "fact=1\n",
    "for i in range(1,num+1):\n",
    "    fact=fact*i\n",
    "print(\"Factorial of Number : \",fact)"
   ]
  },
  {
   "cell_type": "code",
   "execution_count": 10,
   "id": "composite-standing",
   "metadata": {},
   "outputs": [
    {
     "name": "stdout",
     "output_type": "stream",
     "text": [
      "Enter any number : 10\n",
      "There are following prime no up to  10\n",
      "2 3 5 7 \n"
     ]
    }
   ],
   "source": [
    "#Write a program to print prime number\n",
    "num= int(input(\"Enter any number : \"))\n",
    "print(\"There are following prime no up to \",num)\n",
    "for i in range(2,num+1):\n",
    "    for j in range(2,(i//2+1)):\n",
    "        if i%j==0:\n",
    "            break\n",
    "    else:\n",
    "        print(i,end=\" \")\n",
    "print()"
   ]
  },
  {
   "cell_type": "code",
   "execution_count": 16,
   "id": "bronze-european",
   "metadata": {},
   "outputs": [
    {
     "name": "stdout",
     "output_type": "stream",
     "text": [
      "Enter no to element : 5\n",
      "Enter 1 Number : 89\n",
      "Enter 2 Number : 99\n",
      "Enter 3 Number : 23\n",
      "Enter 4 Number : 78\n",
      "Enter 5 Number : 98\n",
      "Largest Number :  99\n"
     ]
    }
   ],
   "source": [
    "# write a program to find largest among  N term\n",
    "num = int(input(\"Enter no to element : \"))\n",
    "a=[]\n",
    "for i in range(num):\n",
    "    n= int(input(\"Enter \"+str(i+1)+\" Number : \"))\n",
    "    a.append(n)\n",
    "a.sort(reverse=True)\n",
    "print(\"Largest Number : \",a[0])"
   ]
  },
  {
   "cell_type": "code",
   "execution_count": 17,
   "id": "allied-purse",
   "metadata": {},
   "outputs": [
    {
     "name": "stdout",
     "output_type": "stream",
     "text": [
      "Enter first no : 10\n",
      "Enter second no : 20\n",
      "a value is 20  b value is : 10\n"
     ]
    }
   ],
   "source": [
    "# Write a program to print swap the value of number\n",
    "a = int(input(\"Enter first no : \"))\n",
    "b = int(input(\"Enter second no : \"))\n",
    "a=a+b\n",
    "b=a-b\n",
    "a=a-b\n",
    "print(\"a value is\",a,\" b value is :\",b)"
   ]
  },
  {
   "cell_type": "code",
   "execution_count": 22,
   "id": "federal-banks",
   "metadata": {},
   "outputs": [
    {
     "name": "stdout",
     "output_type": "stream",
     "text": [
      "Enter any number : 50\n",
      "Fibonacci Series\n",
      "0 1 1 2 3 5 8 13 21 34 55 89 144 233 377 610 987 1597 2584 4181 6765 10946 17711 28657 46368 75025 121393 196418 317811 514229 832040 1346269 2178309 3524578 5702887 9227465 14930352 24157817 39088169 63245986 102334155 165580141 267914296 433494437 701408733 1134903170 1836311903 2971215073 4807526976 7778742049 "
     ]
    }
   ],
   "source": [
    "# Write a program to print fibonacci series.\n",
    "# 0 1 1 2 3 5 8 13 21 34.............n\n",
    "num = int(input(\"Enter any number : \"))\n",
    "print(\"Fibonacci Series\")\n",
    "t1,t2,net=0,1,0\n",
    "for i in range(1,num+1):\n",
    "    print(t1, end=\" \")\n",
    "    net=t1+t2\n",
    "    t1=t2\n",
    "    t2=net\n",
    "    \n"
   ]
  },
  {
   "cell_type": "code",
   "execution_count": null,
   "id": "false-invite",
   "metadata": {},
   "outputs": [],
   "source": [
    "string=input(\"Enter string or number : \")\n",
    "if string[::-1]== string:\n",
    "    print(\"Parlidrome number\")\n",
    "else:\n",
    "    print(\"parlidrome number\")"
   ]
  },
  {
   "cell_type": "code",
   "execution_count": null,
   "id": "reduced-taylor",
   "metadata": {},
   "outputs": [],
   "source": []
  }
 ],
 "metadata": {
  "kernelspec": {
   "display_name": "Python 3",
   "language": "python",
   "name": "python3"
  },
  "language_info": {
   "codemirror_mode": {
    "name": "ipython",
    "version": 3
   },
   "file_extension": ".py",
   "mimetype": "text/x-python",
   "name": "python",
   "nbconvert_exporter": "python",
   "pygments_lexer": "ipython3",
   "version": "3.8.7"
  }
 },
 "nbformat": 4,
 "nbformat_minor": 5
}
