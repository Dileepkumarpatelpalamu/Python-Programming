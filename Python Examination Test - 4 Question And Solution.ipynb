{
 "cells": [
  {
   "cell_type": "markdown",
   "id": "needed-wheat",
   "metadata": {},
   "source": [
    "# Python Examination Test - 4 Question And Solution"
   ]
  },
  {
   "cell_type": "markdown",
   "id": "oriental-gilbert",
   "metadata": {},
   "source": [
    "#### 1. write code to display following matrix in matrix format?\n",
    "\t   X=[[1,2,3],[4,5,6],[7,8,9]]\n"
   ]
  },
  {
   "cell_type": "code",
   "execution_count": 3,
   "id": "incident-framing",
   "metadata": {},
   "outputs": [
    {
     "name": "stdout",
     "output_type": "stream",
     "text": [
      "[[1, 2, 3], [4, 5, 6], [7, 8, 9]]\n"
     ]
    }
   ],
   "source": [
    "X=[[1,2,3],[4,5,6],[7,8,9]]\n",
    "print([[X[i][j] for j in range(len(X))] for i in range(len(X))])"
   ]
  },
  {
   "cell_type": "markdown",
   "id": "continuing-discipline",
   "metadata": {},
   "source": [
    "#### 2. write a program to find sum of the principal diagnol elements of the matrix?"
   ]
  },
  {
   "cell_type": "code",
   "execution_count": 5,
   "id": "specialized-grenada",
   "metadata": {},
   "outputs": [
    {
     "name": "stdout",
     "output_type": "stream",
     "text": [
      "Sum of Principal diagnol element of Matrix :  15\n"
     ]
    }
   ],
   "source": [
    "x=[[1,2,3],[4,5,6],[7,8,9]]\n",
    "add=0\n",
    "for i in range(len(x)):\n",
    "    for j in range(len(x)):\n",
    "        if i == j:\n",
    "            add = add + x[i][j]\n",
    "print(\"Sum of Principal diagnol element of Matrix : \",add)"
   ]
  },
  {
   "cell_type": "markdown",
   "id": "dried-duncan",
   "metadata": {},
   "source": [
    "#### 3.\n",
    "       x=[10,20,30]\n",
    "       y=[10,20,30]\n",
    "       (i) .x is y ........\n",
    "       (ii) . x==y --------"
   ]
  },
  {
   "cell_type": "code",
   "execution_count": 8,
   "id": "greatest-retreat",
   "metadata": {},
   "outputs": [
    {
     "name": "stdout",
     "output_type": "stream",
     "text": [
      "False\n",
      "True\n"
     ]
    }
   ],
   "source": [
    "x=[10,20,30]\n",
    "y=[10,20,30]\n",
    "\n",
    "print(x is y)\n",
    "print(x==y)"
   ]
  },
  {
   "cell_type": "code",
   "execution_count": null,
   "id": "judicial-inspection",
   "metadata": {},
   "outputs": [],
   "source": []
  }
 ],
 "metadata": {
  "kernelspec": {
   "display_name": "Python 3",
   "language": "python",
   "name": "python3"
  },
  "language_info": {
   "codemirror_mode": {
    "name": "ipython",
    "version": 3
   },
   "file_extension": ".py",
   "mimetype": "text/x-python",
   "name": "python",
   "nbconvert_exporter": "python",
   "pygments_lexer": "ipython3",
   "version": "3.8.7"
  }
 },
 "nbformat": 4,
 "nbformat_minor": 5
}
